{
 "cells": [
  {
   "cell_type": "code",
   "execution_count": 1,
   "id": "d9189de6",
   "metadata": {},
   "outputs": [],
   "source": [
    "import microfpga.controller as cl\n",
    "import microfpga.signals as sig\n",
    "from microfpga.signals import LaserTriggerMode\n",
    "\n",
    "import time"
   ]
  },
  {
   "cell_type": "markdown",
   "id": "28f84f36",
   "metadata": {},
   "source": [
    "# 0 - Connect to the FPGA\n",
    "\n",
    "It is important to close the USB port after instantiating it. One convenient way to do it is with a `with` statement."
   ]
  },
  {
   "cell_type": "code",
   "execution_count": 2,
   "id": "1896a836",
   "metadata": {},
   "outputs": [
    {
     "name": "stdout",
     "output_type": "stream",
     "text": [
      "Connected to Au\n",
      "Disconnected\n"
     ]
    }
   ],
   "source": [
    "# with cl.MicroFPGA(known_device=XXX) as mufpga: <- replace XXX with the correct port if there are multiple ports\n",
    "with cl.MicroFPGA() as mufpga:\n",
    "\n",
    "    # check if successful\n",
    "    if mufpga.is_connected():\n",
    "\n",
    "        # print id\n",
    "        print(f'Connected to {mufpga.get_id()}')\n",
    "\n",
    "    else:\n",
    "        print('Failed to connect')\n",
    "\n",
    "print('Disconnected')"
   ]
  },
  {
   "cell_type": "markdown",
   "id": "0d02af84",
   "metadata": {},
   "source": [
    "If you prefer to handle the connection and disconnection yourself, you can simply instantiate a MicroFPGA object."
   ]
  },
  {
   "cell_type": "code",
   "execution_count": 4,
   "id": "126ccf94",
   "metadata": {},
   "outputs": [
    {
     "name": "stdout",
     "output_type": "stream",
     "text": [
      "True\n",
      "Connected to Au\n",
      "False\n"
     ]
    }
   ],
   "source": [
    "# Instantiate MicroFPGA\n",
    "mufpga = cl.MicroFPGA()\n",
    "print(mufpga.is_connected())\n",
    "\n",
    "# Check board ID\n",
    "if mufpga.is_connected():\n",
    "    print(f'Connected to {mufpga.get_id()}')\n",
    "\n",
    "# Disconnect\n",
    "mufpga.disconnect()\n",
    "print(mufpga.is_connected())"
   ]
  },
  {
   "cell_type": "markdown",
   "id": "335ec28a",
   "metadata": {},
   "source": [
    "# 1 - Using a single laser"
   ]
  },
  {
   "cell_type": "code",
   "execution_count": 5,
   "id": "7798e456",
   "metadata": {},
   "outputs": [
    {
     "name": "stdout",
     "output_type": "stream",
     "text": [
      "Connected to Au\n",
      "Current Laser 0 state: [0, 0, 0]\n",
      "Current Laser 0 state: [2, 1000, 43690]\n",
      "Current Laser 0 state: [3, 2000, 13107]\n",
      "Disconnected\n"
     ]
    }
   ],
   "source": [
    "# By default use_camera = True, here we use passive synchronization\n",
    "with cl.MicroFPGA(n_laser=1, use_camera=False) as mufpga:\n",
    "\n",
    "    # check if successful\n",
    "    if mufpga.is_connected():\n",
    "\n",
    "        # print id\n",
    "        print(f'Connected to {mufpga.get_id()}')\n",
    "\n",
    "        # check current state of the first laser\n",
    "        # it prints [mode, duration, sequence]\n",
    "        laser_id = 0  # signals id are 0-indexed\n",
    "        print(f'Current Laser {laser_id} state: {mufpga.get_laser_state(laser_id)}')\n",
    "\n",
    "        # define a new laser state\n",
    "        laser = {\n",
    "            'channel': laser_id,\n",
    "            'mode': LaserTriggerMode.MODE_RISING,  # pulsing on rising edge of camera input\n",
    "            'duration': 1_000,  # pulse length\n",
    "            'sequence': sig.format_sequence('1010101010101010')  # sequence of on/off frames\n",
    "        }\n",
    "\n",
    "        # apply the parameters at once\n",
    "        mufpga.set_laser_state(**laser)\n",
    "\n",
    "        # read current laser state\n",
    "        print(f'Current Laser 0 state: {mufpga.get_laser_state(0)}')\n",
    "        assert [laser['mode'].value,\n",
    "                laser['duration'],\n",
    "                laser['sequence']] == mufpga.get_laser_state(laser['channel'])\n",
    "\n",
    "        # we can change again the parameters\n",
    "        laser['mode'] = LaserTriggerMode.MODE_FALLING\n",
    "        laser['duration'] = 2000\n",
    "        laser['sequence'] = sig.format_sequence('0011001100110011')\n",
    "        mufpga.set_laser_state(**laser)\n",
    "\n",
    "        # read the new state\n",
    "        print(f'Current Laser 0 state: {mufpga.get_laser_state(0)}')\n",
    "\n",
    "    else:\n",
    "        print('Failed to connect')\n",
    "\n",
    "print('Disconnected')\n"
   ]
  },
  {
   "cell_type": "markdown",
   "id": "39203fe9",
   "metadata": {},
   "source": [
    "# 2 - Use multiple lasers"
   ]
  },
  {
   "cell_type": "code",
   "execution_count": 6,
   "id": "7168bf80",
   "metadata": {},
   "outputs": [
    {
     "name": "stdout",
     "output_type": "stream",
     "text": [
      "Connected to Au\n",
      "Current Laser 0 state: [3, 2000, 13107]\n",
      "Current Laser 1 state: [0, 0, 0]\n",
      "Current Laser 2 state: [0, 0, 0]\n",
      "Current Laser 0 state: [2, 2000, 43690]\n",
      "Current Laser 1 state: [3, 2000, 65535]\n",
      "Current Laser 2 state: [4, 0, 52428]\n",
      "Disconnected\n"
     ]
    }
   ],
   "source": [
    "with cl.MicroFPGA(n_laser=3, use_camera=False) as mufpga:\n",
    "\n",
    "    # check if successful\n",
    "    if mufpga.is_connected():\n",
    "\n",
    "        # print id\n",
    "        print(f'Connected to {mufpga.get_id()}')\n",
    "\n",
    "        # check current state of the first laser\n",
    "        # it prints [mode, duration, sequence]\n",
    "        print(f'Current Laser 0 state: {mufpga.get_laser_state(0)}')\n",
    "        print(f'Current Laser 1 state: {mufpga.get_laser_state(1)}')\n",
    "        print(f'Current Laser 2 state: {mufpga.get_laser_state(2)}')\n",
    "\n",
    "        # set lasers state\n",
    "        laser0 = {\n",
    "            'channel': 0,\n",
    "            'mode': LaserTriggerMode.MODE_RISING,\n",
    "            'duration': 2000,\n",
    "            'sequence': sig.format_sequence('1010101010101010')\n",
    "        }\n",
    "        laser1 = {\n",
    "            'channel': 1,\n",
    "            'mode': LaserTriggerMode.MODE_FALLING,\n",
    "            'duration': 2000,\n",
    "            'sequence': sig.MAX_SEQUENCE  # sequence = 1111111111111111\n",
    "        }\n",
    "        laser2 = {\n",
    "            'channel': 2,\n",
    "            'mode': LaserTriggerMode.MODE_FOLLOW,\n",
    "            'duration': 0,  # duration has no impact in FOLLOW mode\n",
    "            'sequence': sig.format_sequence('1100110011001100')\n",
    "        }\n",
    "        mufpga.set_laser_state(**laser0)\n",
    "        mufpga.set_laser_state(**laser1)\n",
    "        mufpga.set_laser_state(**laser2)\n",
    "\n",
    "        # read lasers state\n",
    "        print(f'Current Laser 0 state: {mufpga.get_laser_state(0)}')\n",
    "        print(f'Current Laser 1 state: {mufpga.get_laser_state(1)}')\n",
    "        print(f'Current Laser 2 state: {mufpga.get_laser_state(2)}')\n",
    "\n",
    "        assert [laser2['mode'].value,\n",
    "                laser2['duration'],\n",
    "                laser2['sequence']] == mufpga.get_laser_state(laser2['channel'])\n",
    "\n",
    "    else:\n",
    "        print('Failed to connect')\n",
    "\n",
    "print('Disconnected')"
   ]
  },
  {
   "cell_type": "markdown",
   "id": "0752ba2f",
   "metadata": {},
   "source": [
    "# 3 - Active synchronization"
   ]
  },
  {
   "cell_type": "code",
   "execution_count": 7,
   "id": "d8709db8",
   "metadata": {},
   "outputs": [
    {
     "name": "stdout",
     "output_type": "stream",
     "text": [
      "Connected to Au\n",
      "Active trigger synchronisation: True\n",
      "{'pulse': 1.0, 'delay': 0.5, 'exposure': 19.5, 'read-out': 1.0}\n",
      "Camera running\n",
      "Camera stopped\n",
      "Disconnected\n"
     ]
    }
   ],
   "source": [
    "# use_camera=True is the default value and can be omitted\n",
    "with cl.MicroFPGA(n_laser=1) as mufpga:\n",
    "    # check if successful\n",
    "    if mufpga.is_connected():\n",
    "\n",
    "        # print id\n",
    "        print(f'Connected to {mufpga.get_id()}')\n",
    "\n",
    "        # we are in camera-laser sync mode by default\n",
    "        print(f'Active trigger synchronisation: {mufpga.is_active_sync()}')\n",
    "        assert mufpga.is_active_sync()\n",
    "\n",
    "        # then we need to set the camera state\n",
    "        # we can do it in milliseconds, keeping in mind the following bounds:\n",
    "        # max(pulse) = 0 to 1048,575 ms (in steps of 1 us)\n",
    "        # max(delay) = 0 to 65.535 ms\n",
    "        # max(exposure) = 0 to 1048,575 ms\n",
    "        # max(readout) = 0 to 65.535 ms\n",
    "        camera = {\n",
    "            'pulse': 1,  # ms\n",
    "            'delay': 0.5,  # delay of 500 us between camera pulse and start of the exposure\n",
    "            'exposure': 19.5,\n",
    "            'readout': 1,\n",
    "        }\n",
    "        mufpga.set_camera_state_ms(**camera)  # set the values in ms\n",
    "\n",
    "        # print state\n",
    "        print(mufpga.get_camera_state_ms())\n",
    "\n",
    "        # define one laser pulsing on rising edge of the\n",
    "        # camera trigger with pulse length 2000 us.\n",
    "        laser0 = {\n",
    "            'channel': 0,\n",
    "            'mode': LaserTriggerMode.MODE_RISING,\n",
    "            'duration': 2000,  # in us\n",
    "            'sequence': sig.MAX_SEQUENCE\n",
    "        }\n",
    "        mufpga.set_laser_state(**laser0)\n",
    "\n",
    "        # we also need to start the camera\n",
    "        mufpga.start_camera()\n",
    "        print('Camera running')\n",
    "\n",
    "        # now the FPGA generates both camera and laser trigger for 2 s\n",
    "        time.sleep(2)  # in s\n",
    "\n",
    "        assert mufpga.is_camera_running()\n",
    "\n",
    "        # stop, the trigger signals are off\n",
    "        mufpga.stop_camera()\n",
    "        print('Camera stopped')\n",
    "\n",
    "    else:\n",
    "        print('Failed to connected')\n",
    "\n",
    "print('Disconnected')"
   ]
  },
  {
   "cell_type": "markdown",
   "id": "0b1e1574",
   "metadata": {},
   "source": [
    "# 4 - Switch between active and passive synchronization"
   ]
  },
  {
   "cell_type": "code",
   "execution_count": 8,
   "id": "001b5021",
   "metadata": {},
   "outputs": [
    {
     "name": "stdout",
     "output_type": "stream",
     "text": [
      "Connected to Au\n",
      "Active trigger synchronisation: True\n",
      "{'pulse': 1.0, 'delay': 0.5, 'exposure': 19.5, 'read-out': 21.0}\n",
      "Camera running\n",
      "Camera stopped\n",
      "Active trigger synchronisation: False\n",
      "Active trigger synchronisation: True\n",
      "Disconnected\n"
     ]
    }
   ],
   "source": [
    "with cl.MicroFPGA(n_laser=1) as mufpga:\n",
    "    # check if successful\n",
    "    if mufpga.is_connected():\n",
    "\n",
    "        # print id\n",
    "        print(f'Connected to {mufpga.get_id()}')\n",
    "\n",
    "        # we are in camera-laser sync mode by default\n",
    "        print(f'Active trigger synchronisation: {mufpga.is_active_sync()}')\n",
    "        assert mufpga.is_active_sync()\n",
    "\n",
    "        # then we set the camera state\n",
    "        camera = {\n",
    "            'pulse': 1,  # ms\n",
    "            'delay': 0.5,  # delay of 500 us between camera pulse and start of the exposure\n",
    "            'exposure': 19.5,\n",
    "            'readout': 21\n",
    "        }\n",
    "        mufpga.set_camera_state_ms(**camera)  # set the values in ms\n",
    "\n",
    "        # print state\n",
    "        print(mufpga.get_camera_state_ms())\n",
    "\n",
    "        # define one laser pulsing on rising edge of the\n",
    "        # camera trigger with pulse length 2000 us.\n",
    "        laser0 = {\n",
    "            'channel': 0,\n",
    "            'mode': LaserTriggerMode.MODE_RISING,\n",
    "            'duration': 2000,  # in us\n",
    "            'sequence': sig.MAX_SEQUENCE\n",
    "        }\n",
    "        mufpga.set_laser_state(**laser0)\n",
    "\n",
    "        # we also need to start the camera\n",
    "        mufpga.start_camera()\n",
    "        print('Camera running')\n",
    "\n",
    "        # now the FPGA generates both camera and laser trigger for 2 s\n",
    "        time.sleep(2)  # in s\n",
    "        assert mufpga.is_camera_running()\n",
    "\n",
    "        # stop, the trigger signals are off\n",
    "        mufpga.stop_camera()\n",
    "        print('Camera stopped')\n",
    "\n",
    "        # switch to passive sync mode\n",
    "        mufpga.set_passive_sync()\n",
    "        print(f'Active trigger synchronisation: {mufpga.is_active_sync()}')\n",
    "        assert not mufpga.is_active_sync()\n",
    "\n",
    "        # and switch back\n",
    "        mufpga.set_active_sync()\n",
    "        print(f'Active trigger synchronisation: {mufpga.is_active_sync()}')\n",
    "        assert mufpga.is_active_sync()\n",
    "\n",
    "    else:\n",
    "        print('Failed to connected')\n",
    "\n",
    "print('Disconnected')"
   ]
  },
  {
   "cell_type": "markdown",
   "id": "0e510495",
   "metadata": {},
   "source": [
    "# 5 - Analog read-input"
   ]
  },
  {
   "cell_type": "code",
   "execution_count": 9,
   "id": "0221af27",
   "metadata": {},
   "outputs": [
    {
     "name": "stdout",
     "output_type": "stream",
     "text": [
      "Connected to Au\n",
      "Results: [0.08838025482566568, 0.08825818265049211, 0.0883192187380789, 0.08799877927824827, 0.0882887006942855, 0.08795300221255818, 0.08862439917601282, 0.0878004119935912, 0.08844129091325247, 0.08816662851911193, 0.0882734416723888, 0.08804455634393836, 0.08825818265049211, 0.08824292362859541, 0.0883192187380789, 0.08798352025635157, 0.08804455634393836, 0.08776989394979781, 0.08816662851911193, 0.0878919661249714, 0.08862439917601282, 0.08825818265049211, 0.0878461890592813, 0.08807507438773175, 0.08801403830014497, 0.0883192187380789, 0.08804455634393836, 0.08842603189135577, 0.08809033340962845, 0.08834973678187229, 0.0882734416723888, 0.08821240558480202, 0.08847180895704586, 0.08810559243152515, 0.08807507438773175, 0.08839551384756238, 0.08792248416876479, 0.08813611047531854, 0.08834973678187229, 0.08815136949721523, 0.08825818265049211, 0.08816662851911193, 0.08857862211032273, 0.08807507438773175, 0.08807507438773175, 0.0883192187380789, 0.08853284504463264, 0.08825818265049211, 0.08805981536583506, 0.08786144808117799, 0.08772411688410772, 0.08813611047531854, 0.0882734416723888, 0.08795300221255818, 0.08815136949721523, 0.08790722514686809, 0.08868543526359961, 0.08838025482566568, 0.08813611047531854, 0.08790722514686809, 0.08839551384756238, 0.08819714656290532, 0.0883192187380789, 0.08786144808117799, 0.0882887006942855, 0.08804455634393836, 0.08845654993514916, 0.08807507438773175, 0.08815136949721523, 0.08819714656290532, 0.0883192187380789, 0.0883192187380789, 0.08838025482566568, 0.08813611047531854, 0.0882887006942855, 0.08798352025635157, 0.08844129091325247, 0.08813611047531854, 0.08813611047531854, 0.08798352025635157, 0.08792248416876479, 0.08850232700083925, 0.08815136949721523, 0.08772411688410772, 0.08810559243152515, 0.08844129091325247, 0.08821240558480202, 0.08839551384756238, 0.08819714656290532, 0.08847180895704586, 0.08819714656290532, 0.08804455634393836, 0.08821240558480202, 0.0878309300373846, 0.08804455634393836, 0.0882887006942855, 0.08816662851911193, 0.08822766460669872, 0.08776989394979781, 0.08816662851911193]\n",
      "Disconnected\n"
     ]
    }
   ],
   "source": [
    "def current_milli_time():\n",
    "    return time.time() * 1000\n",
    "\n",
    "\n",
    "def run_measurement(controller, channel, n):\n",
    "    t = []\n",
    "    r = []\n",
    "\n",
    "    start = current_milli_time()\n",
    "    for _ in range(n):\n",
    "        r.append(controller.get_analog_state(channel))\n",
    "        t.append(current_milli_time() - start)\n",
    "\n",
    "    return t, r\n",
    "\n",
    "\n",
    "with cl.MicroFPGA(n_ai=1) as mufpga:\n",
    "    # check if successful\n",
    "    if mufpga.is_connected():\n",
    "        print('Connected to ' + mufpga.get_id())\n",
    "\n",
    "        t_ms, r_au = run_measurement(mufpga, channel=0, n=100)\n",
    "\n",
    "        # result is returned in arbitrary unit, convert to volts\n",
    "        v = [r / sig.MAX_AI for r in r_au]\n",
    "\n",
    "        print(f'Results: {v}')\n",
    "\n",
    "    else:\n",
    "        print('Failed to connect')\n",
    "\n",
    "print('Disconnected')"
   ]
  },
  {
   "cell_type": "markdown",
   "id": "b088e8c2",
   "metadata": {},
   "source": [
    "# 6 - Other signals"
   ]
  },
  {
   "cell_type": "code",
   "execution_count": 10,
   "id": "1037a443",
   "metadata": {},
   "outputs": [
    {
     "name": "stdout",
     "output_type": "stream",
     "text": [
      "Connected to Au\n",
      "Current TTL 1 state: 0\n",
      "Current TTL 1 state: 1\n",
      "Current PWM 2 state: 0\n",
      "Current PWM 2 state: 120\n",
      "Current Servo 1 state: 0\n",
      "Current Servo 1 state: 25000\n",
      "Disconnected\n"
     ]
    }
   ],
   "source": [
    "with cl.MicroFPGA(n_ttl=2,\n",
    "                  n_servo=2,\n",
    "                  n_pwm=3,\n",
    "                  use_camera=False) as mufpga:\n",
    "\n",
    "    # check if successful\n",
    "    if mufpga.is_connected():\n",
    "\n",
    "        # print id\n",
    "        print(f'Connected to {mufpga.get_id()}')\n",
    "\n",
    "        # TTL signals have only two states: on (True) or off (False)\n",
    "        ttl_id = 1 # let's use the second channel\n",
    "        ttl_state = mufpga.get_ttl_state(ttl_id)\n",
    "        print(f'Current TTL {ttl_id} state: {ttl_state}')\n",
    "\n",
    "        # set it to the other state\n",
    "        mufpga.set_ttl_state(ttl_id, (not ttl_state))\n",
    "        print(f'Current TTL {ttl_id} state: {mufpga.get_ttl_state(ttl_id)}')\n",
    "\n",
    "        # PWM signals go from 0 (0%) to 255 (100%), they can be used together\n",
    "        # with a low-pass filter to create an analog output signal, or simply\n",
    "        # directly used with certain devices (e.g. LED)\n",
    "        pwm_id = 2  # let's use the third signal\n",
    "        pwm_state = mufpga.get_pwm_state(pwm_id)\n",
    "        print(f'Current PWM {pwm_id} state: {pwm_state}')\n",
    "\n",
    "        # let's change the value\n",
    "        pwm_state = (pwm_state+120) % 255  # make sure the value is not > 255\n",
    "        mufpga.set_pwm_state(pwm_id, pwm_state)\n",
    "        print(f'Current PWM {pwm_id} state: {mufpga.get_pwm_state(pwm_id)}')\n",
    "\n",
    "        # Finally, servo signals are used to control servomotors and their value\n",
    "        # is between 0 and 65535\n",
    "        servo_id = 1  # let's use the second channel\n",
    "        servo_state = mufpga.get_servo_state(servo_id)\n",
    "        print(f'Current Servo {servo_id} state: {servo_state}')\n",
    "\n",
    "        # let's change the value\n",
    "        servo_state = (servo_state+25000) % 65535  # make sure the value is not > 65535\n",
    "        mufpga.set_servo_state(servo_id, servo_state)\n",
    "        print(f'Current Servo {servo_id} state: {mufpga.get_servo_state(servo_id)}')\n",
    "\n",
    "    else:\n",
    "        print('Failed to connect')\n",
    "\n",
    "print('Disconnected')"
   ]
  }
 ],
 "metadata": {
  "kernelspec": {
   "display_name": "Python [conda env:microfpga] *",
   "language": "python",
   "name": "conda-env-microfpga-py"
  },
  "language_info": {
   "codemirror_mode": {
    "name": "ipython",
    "version": 3
   },
   "file_extension": ".py",
   "mimetype": "text/x-python",
   "name": "python",
   "nbconvert_exporter": "python",
   "pygments_lexer": "ipython3",
   "version": "3.9.12"
  }
 },
 "nbformat": 4,
 "nbformat_minor": 5
}
