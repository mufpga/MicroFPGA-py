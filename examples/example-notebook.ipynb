{
 "cells": [
  {
   "cell_type": "code",
   "execution_count": 5,
   "id": "d9189de6",
   "metadata": {},
   "outputs": [],
   "source": [
    "import microfpga.controller as cl\n",
    "import microfpga.signals as sig\n",
    "from microfpga.signals import LaserTriggerMode\n",
    "\n",
    "import time"
   ]
  },
  {
   "cell_type": "markdown",
   "id": "28f84f36",
   "metadata": {},
   "source": [
    "# 0 - Connect to the FPGA\n",
    "\n",
    "It is important to close the USB port after instantiating it. One convenient way to do it is with a `with` statement."
   ]
  },
  {
   "cell_type": "code",
   "execution_count": 2,
   "id": "1896a836",
   "metadata": {},
   "outputs": [
    {
     "name": "stdout",
     "output_type": "stream",
     "text": [
      "Failed to connect\n",
      "Disconnected\n"
     ]
    },
    {
     "name": "stderr",
     "output_type": "stream",
     "text": [
      "/home/joran.deschamps/git/MicroFPGA/MicroFPGA-py/microfpga/regint.py:74: UserWarning: Cannot choose between detected devices ['/dev/ttyUSB1', '/dev/ttyUSB0'] (known_device = None). Choose a device from the list and pass it as known_device parameter to the controller. If there is no detected device in the list, check the physical device connection.\n",
      "  warnings.warn(f'Cannot choose between detected devices {devices} (known_device '\n"
     ]
    }
   ],
   "source": [
    "# with cl.MicroFPGA(know_device=XXX) as mufpga: <- replace XXX with the correct port if there are multiple ports\n",
    "with cl.MicroFPGA() as mufpga:\n",
    "\n",
    "    # check if successful\n",
    "    if mufpga.is_connected():\n",
    "\n",
    "        # print id\n",
    "        print(f'Connected to {mufpga.get_id()}')\n",
    "\n",
    "    else:\n",
    "        print('Failed to connect')\n",
    "\n",
    "print('Disconnected')"
   ]
  },
  {
   "cell_type": "markdown",
   "id": "0d02af84",
   "metadata": {},
   "source": [
    "If you prefer to handle the connection and disconnection yourself, you can simply instantiate a MicroFPGA object."
   ]
  },
  {
   "cell_type": "code",
   "execution_count": 9,
   "id": "126ccf94",
   "metadata": {},
   "outputs": [
    {
     "name": "stdout",
     "output_type": "stream",
     "text": [
      "False\n"
     ]
    },
    {
     "ename": "AttributeError",
     "evalue": "'MicroFPGA' object has no attribute '_id'",
     "output_type": "error",
     "traceback": [
      "\u001b[0;31m---------------------------------------------------------------------------\u001b[0m",
      "\u001b[0;31mAttributeError\u001b[0m                            Traceback (most recent call last)",
      "Input \u001b[0;32mIn [9]\u001b[0m, in \u001b[0;36m<cell line: 3>\u001b[0;34m()\u001b[0m\n\u001b[1;32m      1\u001b[0m mufpga \u001b[38;5;241m=\u001b[39m cl\u001b[38;5;241m.\u001b[39mMicroFPGA()\n\u001b[1;32m      2\u001b[0m \u001b[38;5;28mprint\u001b[39m(mufpga\u001b[38;5;241m.\u001b[39mis_connected())\n\u001b[0;32m----> 3\u001b[0m \u001b[38;5;28mprint\u001b[39m(\u001b[38;5;124mf\u001b[39m\u001b[38;5;124m'\u001b[39m\u001b[38;5;124mConnected to \u001b[39m\u001b[38;5;132;01m{\u001b[39;00mmufpga\u001b[38;5;241m.\u001b[39mget_id()\u001b[38;5;132;01m}\u001b[39;00m\u001b[38;5;124m'\u001b[39m)\n\u001b[1;32m      4\u001b[0m mufpga\u001b[38;5;241m.\u001b[39mdisconnect()\n\u001b[1;32m      5\u001b[0m \u001b[38;5;28mprint\u001b[39m(mufpga\u001b[38;5;241m.\u001b[39mis_connected())\n",
      "File \u001b[0;32m~/git/MicroFPGA/MicroFPGA-py/microfpga/controller.py:325\u001b[0m, in \u001b[0;36mMicroFPGA.get_id\u001b[0;34m(self)\u001b[0m\n\u001b[1;32m    324\u001b[0m \u001b[38;5;28;01mdef\u001b[39;00m \u001b[38;5;21mget_id\u001b[39m(\u001b[38;5;28mself\u001b[39m):\n\u001b[0;32m--> 325\u001b[0m     \u001b[38;5;28;01mif\u001b[39;00m \u001b[38;5;28;43mself\u001b[39;49m\u001b[38;5;241;43m.\u001b[39;49m\u001b[43m_id\u001b[49m \u001b[38;5;241m==\u001b[39m signals\u001b[38;5;241m.\u001b[39mID_AU:\n\u001b[1;32m    326\u001b[0m         \u001b[38;5;28;01mreturn\u001b[39;00m \u001b[38;5;124m'\u001b[39m\u001b[38;5;124mAu\u001b[39m\u001b[38;5;124m'\u001b[39m\n\u001b[1;32m    327\u001b[0m     \u001b[38;5;28;01melif\u001b[39;00m \u001b[38;5;28mself\u001b[39m\u001b[38;5;241m.\u001b[39m_id \u001b[38;5;241m==\u001b[39m signals\u001b[38;5;241m.\u001b[39mID_AUP:\n",
      "\u001b[0;31mAttributeError\u001b[0m: 'MicroFPGA' object has no attribute '_id'"
     ]
    }
   ],
   "source": [
    "# Instantiate MicroFPGA\n",
    "mufpga = cl.MicroFPGA()\n",
    "print(mufpga.is_connected())\n",
    "\n",
    "# Check board ID\n",
    "if mufpga.is_connected():\n",
    "    print(f'Connected to {mufpga.get_id()}')\n",
    "\n",
    "# Disconnect\n",
    "mufpga.disconnect()\n",
    "print(mufpga.is_connected())"
   ]
  },
  {
   "cell_type": "markdown",
   "id": "335ec28a",
   "metadata": {},
   "source": [
    "# 1 - Using a single laser"
   ]
  },
  {
   "cell_type": "code",
   "execution_count": 4,
   "id": "7798e456",
   "metadata": {},
   "outputs": [
    {
     "name": "stdout",
     "output_type": "stream",
     "text": [
      "Failed to connect\n",
      "Disconnected\n"
     ]
    }
   ],
   "source": [
    "# By default use_camera = True, here we use passive synchronization\n",
    "with cl.MicroFPGA(n_laser=1, use_camera=False) as mufpga:\n",
    "\n",
    "    # check if successful\n",
    "    if mufpga.is_connected():\n",
    "\n",
    "        # print id\n",
    "        print(f'Connected to {mufpga.get_id()}')\n",
    "\n",
    "        # check current state of the first laser\n",
    "        # it prints [mode, duration, sequence]\n",
    "        laser_id = 0  # signals id are 0-indexed\n",
    "        print(f'Current Laser {laser_id} state: {mufpga.get_laser_state(laser_id)}')\n",
    "\n",
    "        # define a new laser state\n",
    "        laser = {\n",
    "            'channel': laser_id,\n",
    "            'mode': LaserTriggerMode.MODE_RISING,  # pulsing on rising edge of camera input\n",
    "            'duration': 1_000,  # pulse length\n",
    "            'sequence': sig.format_sequence('1010101010101010')  # sequence of on/off frames\n",
    "        }\n",
    "\n",
    "        # apply the parameters at once\n",
    "        mufpga.set_laser_state(**laser)\n",
    "\n",
    "        # read current laser state\n",
    "        print(f'Current Laser 0 state: {mufpga.get_laser_state(0)}')\n",
    "        assert [laser['mode'].value,\n",
    "                laser['duration'],\n",
    "                laser['sequence']] == mufpga.get_laser_state(laser['channel'])\n",
    "\n",
    "        # we can change again the parameters\n",
    "        laser['mode'] = LaserTriggerMode.MODE_FALLING\n",
    "        laser['duration'] = 2000\n",
    "        laser['sequence'] = sig.format_sequence('0011001100110011')\n",
    "        mufpga.set_laser_state(**laser)\n",
    "\n",
    "        # read the new state\n",
    "        print(f'Current Laser 0 state: {mufpga.get_laser_state(0)}')\n",
    "\n",
    "    else:\n",
    "        print('Failed to connect')\n",
    "\n",
    "print('Disconnected')\n"
   ]
  },
  {
   "cell_type": "markdown",
   "id": "39203fe9",
   "metadata": {},
   "source": [
    "# 2 - Use multiple lasers"
   ]
  },
  {
   "cell_type": "code",
   "execution_count": null,
   "id": "7168bf80",
   "metadata": {},
   "outputs": [],
   "source": [
    "with cl.MicroFPGA(n_laser=3, use_camera=False) as mufpga:\n",
    "\n",
    "    # check if successful\n",
    "    if mufpga.is_connected():\n",
    "\n",
    "        # print id\n",
    "        print(f'Connected to {mufpga.get_id()}')\n",
    "\n",
    "        # check current state of the first laser\n",
    "        # it prints [mode, duration, sequence]\n",
    "        print(f'Current Laser 0 state: {mufpga.get_laser_state(0)}')\n",
    "        print(f'Current Laser 1 state: {mufpga.get_laser_state(1)}')\n",
    "        print(f'Current Laser 2 state: {mufpga.get_laser_state(2)}')\n",
    "\n",
    "        # set lasers state\n",
    "        laser0 = {\n",
    "            'channel': 0,\n",
    "            'mode': LaserTriggerMode.MODE_RISING,\n",
    "            'duration': 2000,\n",
    "            'sequence': sig.format_sequence('1010101010101010')\n",
    "        }\n",
    "        laser1 = {\n",
    "            'channel': 1,\n",
    "            'mode': LaserTriggerMode.MODE_FALLING,\n",
    "            'duration': 2000,\n",
    "            'sequence': sig.MAX_SEQUENCE  # sequence = 1111111111111111\n",
    "        }\n",
    "        laser2 = {\n",
    "            'channel': 2,\n",
    "            'mode': LaserTriggerMode.MODE_FOLLOW,\n",
    "            'duration': 0,  # duration has no impact in FOLLOW mode\n",
    "            'sequence': sig.format_sequence('1100110011001100')\n",
    "        }\n",
    "        mufpga.set_laser_state(**laser0)\n",
    "        mufpga.set_laser_state(**laser1)\n",
    "        mufpga.set_laser_state(**laser2)\n",
    "\n",
    "        # read lasers state\n",
    "        print(f'Current Laser 0 state: {mufpga.get_laser_state(0)}')\n",
    "        print(f'Current Laser 1 state: {mufpga.get_laser_state(1)}')\n",
    "        print(f'Current Laser 2 state: {mufpga.get_laser_state(2)}')\n",
    "\n",
    "        assert [laser2['mode'].value,\n",
    "                laser2['duration'],\n",
    "                laser2['sequence']] == mufpga.get_laser_state(laser2['channel'])\n",
    "\n",
    "    else:\n",
    "        print('Failed to connect')\n",
    "\n",
    "print('Disconnected')"
   ]
  },
  {
   "cell_type": "markdown",
   "id": "0752ba2f",
   "metadata": {},
   "source": [
    "# 3 - Active synchronization"
   ]
  },
  {
   "cell_type": "code",
   "execution_count": null,
   "id": "d8709db8",
   "metadata": {},
   "outputs": [],
   "source": [
    "# use_camera=True is the default value and can be omitted\n",
    "with cl.MicroFPGA(n_laser=1) as mufpga:\n",
    "    # check if successful\n",
    "    if mufpga.is_connected():\n",
    "\n",
    "        # print id\n",
    "        print(f'Connected to {mufpga.get_id()}')\n",
    "\n",
    "        # we are in camera-laser sync mode by default\n",
    "        print(f'Active trigger synchronisation: {mufpga.is_active_sync()}')\n",
    "        assert mufpga.is_active_sync()\n",
    "\n",
    "        # then we need to set the camera state\n",
    "        # we can do it in milliseconds, keeping in mind the following bounds:\n",
    "        # max(pulse) = 0 to 1048,575 ms (in steps of 1 us)\n",
    "        # max(delay) = 0 to 65.535 ms\n",
    "        # max(exposure) = 0 to 1048,575 ms\n",
    "        # max(readout) = 0 to 65.535 ms\n",
    "        camera = {\n",
    "            'pulse': 1,  # ms\n",
    "            'delay': 0.5,  # delay of 500 us between camera pulse and start of the exposure\n",
    "            'exposure': 19.5,\n",
    "            'readout': 1,\n",
    "        }\n",
    "        mufpga.set_camera_state_ms(**camera)  # set the values in ms\n",
    "\n",
    "        # print state\n",
    "        print(mufpga.get_camera_state_ms())\n",
    "\n",
    "        # define one laser pulsing on rising edge of the\n",
    "        # camera trigger with pulse length 2000 us.\n",
    "        laser0 = {\n",
    "            'channel': 0,\n",
    "            'mode': LaserTriggerMode.MODE_RISING,\n",
    "            'duration': 2000,  # in us\n",
    "            'sequence': sig.MAX_SEQUENCE\n",
    "        }\n",
    "        mufpga.set_laser_state(**laser0)\n",
    "\n",
    "        # we also need to start the camera\n",
    "        mufpga.start_camera()\n",
    "        print('Camera running')\n",
    "\n",
    "        # now the FPGA generates both camera and laser trigger for 2 s\n",
    "        time.sleep(2)  # in s\n",
    "\n",
    "        assert mufpga.is_camera_running()\n",
    "\n",
    "        # stop, the trigger signals are off\n",
    "        mufpga.stop_camera()\n",
    "        print('Camera stopped')\n",
    "\n",
    "    else:\n",
    "        print('Failed to connected')\n",
    "\n",
    "print('Disconnected')"
   ]
  },
  {
   "cell_type": "markdown",
   "id": "0b1e1574",
   "metadata": {},
   "source": [
    "# 4 - Switch between active and passive synchronization"
   ]
  },
  {
   "cell_type": "code",
   "execution_count": 6,
   "id": "001b5021",
   "metadata": {},
   "outputs": [
    {
     "name": "stdout",
     "output_type": "stream",
     "text": [
      "Failed to connected\n",
      "Disconnected\n"
     ]
    }
   ],
   "source": [
    "with cl.MicroFPGA(n_laser=1) as mufpga:\n",
    "    # check if successful\n",
    "    if mufpga.is_connected():\n",
    "\n",
    "        # print id\n",
    "        print(f'Connected to {mufpga.get_id()}')\n",
    "\n",
    "        # we are in camera-laser sync mode by default\n",
    "        print(f'Active trigger synchronisation: {mufpga.is_active_sync()}')\n",
    "        assert mufpga.is_active_sync()\n",
    "\n",
    "        # then we set the camera state\n",
    "        camera = {\n",
    "            'pulse': 1,  # ms\n",
    "            'delay': 0.5,  # delay of 500 us between camera pulse and start of the exposure\n",
    "            'exposure': 19.5,\n",
    "            'readout': 21\n",
    "        }\n",
    "        mufpga.set_camera_state_ms(**camera)  # set the values in ms\n",
    "\n",
    "        # print state\n",
    "        print(mufpga.get_camera_state_ms())\n",
    "\n",
    "        # define one laser pulsing on rising edge of the\n",
    "        # camera trigger with pulse length 2000 us.\n",
    "        laser0 = {\n",
    "            'channel': 0,\n",
    "            'mode': LaserTriggerMode.MODE_RISING,\n",
    "            'duration': 2000,  # in us\n",
    "            'sequence': sig.MAX_SEQUENCE\n",
    "        }\n",
    "        mufpga.set_laser_state(**laser0)\n",
    "\n",
    "        # we also need to start the camera\n",
    "        mufpga.start_camera()\n",
    "        print('Camera running')\n",
    "\n",
    "        # now the FPGA generates both camera and laser trigger for 2 s\n",
    "        time.sleep(2)  # in s\n",
    "        assert mufpga.is_camera_running()\n",
    "\n",
    "        # stop, the trigger signals are off\n",
    "        mufpga.stop_camera()\n",
    "        print('Camera stopped')\n",
    "\n",
    "        # switch to passive sync mode\n",
    "        mufpga.set_passive_sync()\n",
    "        print(f'Active trigger synchronisation: {mufpga.is_active_sync()}')\n",
    "        assert not mufpga.is_active_sync()\n",
    "\n",
    "        # and switch back\n",
    "        mufpga.set_active_sync()\n",
    "        print(f'Active trigger synchronisation: {mufpga.is_active_sync()}')\n",
    "        assert mufpga.is_active_sync()\n",
    "\n",
    "    else:\n",
    "        print('Failed to connected')\n",
    "\n",
    "print('Disconnected')"
   ]
  },
  {
   "cell_type": "markdown",
   "id": "0e510495",
   "metadata": {},
   "source": [
    "# 5 - Analog read-input"
   ]
  },
  {
   "cell_type": "code",
   "execution_count": 7,
   "id": "0221af27",
   "metadata": {},
   "outputs": [
    {
     "name": "stdout",
     "output_type": "stream",
     "text": [
      "Failed to connect\n",
      "Disconnected\n"
     ]
    }
   ],
   "source": [
    "def current_milli_time():\n",
    "    return time.time() * 1000\n",
    "\n",
    "\n",
    "def run_measurement(controller, channel, n):\n",
    "    t = []\n",
    "    r = []\n",
    "\n",
    "    start = current_milli_time()\n",
    "    for _ in range(n):\n",
    "        r.append(controller.get_analog_state(channel))\n",
    "        t.append(current_milli_time() - start)\n",
    "\n",
    "    return t, r\n",
    "\n",
    "\n",
    "with cl.MicroFPGA(n_ai=1) as mufpga:\n",
    "    # check if successful\n",
    "    if mufpga.is_connected():\n",
    "        print('Connected to ' + mufpga.get_id())\n",
    "\n",
    "        t_ms, r_au = run_measurement(mufpga, channel=0, n=100)\n",
    "\n",
    "        # result is returned in arbitrary unit, convert to volts\n",
    "        v = [r / sig.MAX_AI for r in r_au]\n",
    "\n",
    "        print(f'Results: {v}')\n",
    "\n",
    "    else:\n",
    "        print('Failed to connect')\n",
    "\n",
    "print('Disconnected')"
   ]
  },
  {
   "cell_type": "markdown",
   "id": "b088e8c2",
   "metadata": {},
   "source": [
    "# 6 - Other signals"
   ]
  },
  {
   "cell_type": "code",
   "execution_count": 8,
   "id": "1037a443",
   "metadata": {},
   "outputs": [
    {
     "name": "stdout",
     "output_type": "stream",
     "text": [
      "Failed to connect\n",
      "Disconnected\n"
     ]
    }
   ],
   "source": [
    "with cl.MicroFPGA(n_ttl=2,\n",
    "                  n_servo=2,\n",
    "                  n_pwm=3,\n",
    "                  use_camera=False) as mufpga:\n",
    "\n",
    "    # check if successful\n",
    "    if mufpga.is_connected():\n",
    "\n",
    "        # print id\n",
    "        print(f'Connected to {mufpga.get_id()}')\n",
    "\n",
    "        # TTL signals have only two states: on (True) or off (False)\n",
    "        ttl_id = 1 # let's use the second channel\n",
    "        ttl_state = mufpga.get_ttl_state(ttl_id)\n",
    "        print(f'Current TTL {ttl_id} state: {ttl_state}')\n",
    "\n",
    "        # set it to the other state\n",
    "        mufpga.set_ttl_state(ttl_id, (not ttl_state))\n",
    "        print(f'Current TTL {ttl_id} state: {mufpga.get_ttl_state(ttl_id)}')\n",
    "\n",
    "        # PWM signals go from 0 (0%) to 255 (100%), they can be used together\n",
    "        # with a low-pass filter to create an analog output signal, or simply\n",
    "        # directly used with certain devices (e.g. LED)\n",
    "        pwm_id = 2  # let's use the third signal\n",
    "        pwm_state = mufpga.get_pwm_state(pwm_id)\n",
    "        print(f'Current PWM {pwm_id} state: {pwm_state}')\n",
    "\n",
    "        # let's change the value\n",
    "        pwm_state = (pwm_state+120) % 255  # make sure the value is not > 255\n",
    "        mufpga.set_pwm_state(pwm_id, pwm_state)\n",
    "        print(f'Current PWM {pwm_id} state: {mufpga.get_pwm_state(pwm_id)}')\n",
    "\n",
    "        # Finally, servo signals are used to control servomotors and their value\n",
    "        # is between 0 and 65535\n",
    "        servo_id = 1  # let's use the second channel\n",
    "        servo_state = mufpga.get_servo_state(servo_id)\n",
    "        print(f'Current Servo {servo_id} state: {servo_state}')\n",
    "\n",
    "        # let's change the value\n",
    "        servo_state = (servo_state+25000) % 65535  # make sure the value is not > 65535\n",
    "        mufpga.set_servo_state(servo_id, servo_state)\n",
    "        print(f'Current Servo {servo_id} state: {mufpga.get_servo_state(servo_id)}')\n",
    "\n",
    "    else:\n",
    "        print('Failed to connect')\n",
    "\n",
    "print('Disconnected')"
   ]
  }
 ],
 "metadata": {
  "kernelspec": {
   "display_name": "Python [conda env:microfpga2]",
   "language": "python",
   "name": "conda-env-microfpga2-py"
  },
  "language_info": {
   "codemirror_mode": {
    "name": "ipython",
    "version": 3
   },
   "file_extension": ".py",
   "mimetype": "text/x-python",
   "name": "python",
   "nbconvert_exporter": "python",
   "pygments_lexer": "ipython3",
   "version": "3.9.12"
  }
 },
 "nbformat": 4,
 "nbformat_minor": 5
}
